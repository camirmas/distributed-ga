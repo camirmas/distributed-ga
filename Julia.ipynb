{
 "cells": [
  {
   "cell_type": "code",
   "execution_count": 4,
   "id": "8b0bba8d",
   "metadata": {},
   "outputs": [],
   "source": [
    "using Random\n",
    "#using Plots\n",
    "#using Distributions"
   ]
  },
  {
   "cell_type": "code",
   "execution_count": 32,
   "id": "9e80099e",
   "metadata": {},
   "outputs": [
    {
     "data": {
      "text/plain": [
       "rand_population_binary (generic function with 1 method)"
      ]
     },
     "execution_count": 32,
     "metadata": {},
     "output_type": "execute_result"
    }
   ],
   "source": [
    "rand_population_binary(m, n) = [bitrand(n) for i in 1:m] "
   ]
  },
  {
   "cell_type": "code",
   "execution_count": 30,
   "id": "7527ed9d",
   "metadata": {},
   "outputs": [
    {
     "data": {
      "text/plain": [
       "decode_binary (generic function with 1 method)"
      ]
     },
     "execution_count": 30,
     "metadata": {},
     "output_type": "execute_result"
    }
   ],
   "source": [
    "function decode_binary(arr)\n",
    "    bitstring = join(arr)\n",
    "    return parse(Int, bitstring; base=2)\n",
    "end"
   ]
  },
  {
   "cell_type": "code",
   "execution_count": 31,
   "id": "f249381d",
   "metadata": {},
   "outputs": [
    {
     "data": {
      "text/plain": [
       "3"
      ]
     },
     "execution_count": 31,
     "metadata": {},
     "output_type": "execute_result"
    }
   ],
   "source": [
    "a = [0, 1, 1]\n",
    "decode_binary(a)"
   ]
  },
  {
   "cell_type": "code",
   "execution_count": 25,
   "id": "fa87a8a6",
   "metadata": {},
   "outputs": [
    {
     "data": {
      "text/plain": [
       "select (generic function with 3 methods)"
      ]
     },
     "execution_count": 25,
     "metadata": {},
     "output_type": "execute_result"
    }
   ],
   "source": [
    "abstract type SelectionMethod end\n",
    "struct TruncationSelection <: SelectionMethod\n",
    "    k # top k to keep\n",
    "end\n",
    "function select(t::TruncationSelection, y)\n",
    "    p = sortperm(y)\n",
    "    return [p[rand(1:t.k, 2)] for i in y]\n",
    "end\n",
    "\n",
    "struct TournamentSelection <: SelectionMethod\n",
    "    k\n",
    "end\n",
    "function select(t::TournamentSelection, y)\n",
    "    getparent() = begin\n",
    "        p = randperm(length(y))\n",
    "        p[argmin(y[p[1:t.k]])]\n",
    "    end\n",
    "    return [[getparent(), getparent()] for i in y] \n",
    "end\n",
    "\n",
    "struct RouletteWheelSelection <: SelectionMethod end\n",
    "function select(::RouletteWheelSelection, y)\n",
    "    y = maximum(y) .- y\n",
    "    cat = Categorical(normalize(y, 1))\n",
    "    return [rand(cat, 2) for i in y]\n",
    "end"
   ]
  },
  {
   "cell_type": "code",
   "execution_count": 26,
   "id": "6b9a089d",
   "metadata": {},
   "outputs": [
    {
     "data": {
      "text/plain": [
       "crossover (generic function with 3 methods)"
      ]
     },
     "execution_count": 26,
     "metadata": {},
     "output_type": "execute_result"
    }
   ],
   "source": [
    "abstract type CrossoverMethod end\n",
    "struct SinglePointCrossover <: CrossoverMethod end\n",
    "function crossover(::SinglePointCrossover, a, b)\n",
    "    i = rand(1:length(a))\n",
    "    return vcat(a[1:i], b[i+1:end])\n",
    "end\n",
    "\n",
    "struct TwoPointCrossover <: CrossoverMethod end\n",
    "function crossover(::TwoPointCrossover, a, b)\n",
    "    n = length(a)\n",
    "    i, j = rand(1:n, 2)\n",
    "    if i > j\n",
    "        (i,j) = (j,i)\n",
    "    end\n",
    "    return vcat(a[1:i], b[i+1:j], a[j+1:n])\n",
    "end\n",
    "\n",
    "struct UniformCrossover <: CrossoverMethod end\n",
    "function crossover(::UniformCrossover, a, b)\n",
    "    child = copy(a)\n",
    "    for i in 1 : length(a)\n",
    "        if rand() < 0.5\n",
    "            child[i] = b[i]\n",
    "        end\n",
    "    end\n",
    "    return child\n",
    "end"
   ]
  },
  {
   "cell_type": "code",
   "execution_count": 27,
   "id": "e09d1ba5",
   "metadata": {},
   "outputs": [
    {
     "data": {
      "text/plain": [
       "mutate (generic function with 2 methods)"
      ]
     },
     "execution_count": 27,
     "metadata": {},
     "output_type": "execute_result"
    }
   ],
   "source": [
    "abstract type MutationMethod end\n",
    "struct BitwiseMutation <: MutationMethod\n",
    "    λ\n",
    "end\n",
    "function mutate(M::BitwiseMutation, child)\n",
    "    return [rand() < M.λ ? !v : v for v in child]\n",
    "end\n",
    "\n",
    "struct GaussianMutation <: MutationMethod\n",
    "    σ\n",
    "end\n",
    "function mutate(M::GaussianMutation, child)\n",
    "    return child + randn(length(child))*M.σ\n",
    "end"
   ]
  },
  {
   "cell_type": "code",
   "execution_count": 33,
   "id": "5261f5e1",
   "metadata": {},
   "outputs": [
    {
     "data": {
      "text/plain": [
       "genetic_algorithm (generic function with 1 method)"
      ]
     },
     "execution_count": 33,
     "metadata": {},
     "output_type": "execute_result"
    }
   ],
   "source": [
    "abstract type MutationMethod end\n",
    "struct GaussianMutation <: MutationMethod\n",
    "    σ\n",
    "end\n",
    "\n",
    "mutate(U::GaussianMutation, child) = child + randn(length(child))*U.σ\n",
    "\n",
    "function michalewicz(x; m=10)\n",
    "    return -sum(sin(v)*sin(i*v^2/π)^(2m) for\n",
    "               (i,v) in enumerate(x))\n",
    "end\n",
    "\n",
    "f = x -> michalewicz(x)\n",
    "xdomain = (0,4)\n",
    "ydomain = (0,4)\n",
    "\n",
    "S = TruncationSelection(10)\n",
    "C = SinglePointCrossover()\n",
    "M = GaussianMutation(0.1)\n",
    "\n",
    "m = 40\n",
    "Random.seed!(0)\n",
    "population = rand_population_uniform(m, [0.0, 0.0], [4.0,4.0])\n",
    "\n",
    "function genetic_algorithm(f, population, k_max, S, C, M)\n",
    "    for k in 1 : k_max\n",
    "        parents = select(S, f.(population))\n",
    "        children = [crossover(C,population[p[1]],population[p[2]]) for p in parents]\n",
    "        population .= mutate.(Ref(M), children)\n",
    "    end\n",
    "    population[argmin(f.(population))]\n",
    "end"
   ]
  },
  {
   "cell_type": "code",
   "execution_count": null,
   "id": "2da2cc34",
   "metadata": {},
   "outputs": [],
   "source": []
  }
 ],
 "metadata": {
  "kernelspec": {
   "display_name": "Julia 1.7.1",
   "language": "julia",
   "name": "julia-1.7"
  },
  "language_info": {
   "file_extension": ".jl",
   "mimetype": "application/julia",
   "name": "julia",
   "version": "1.7.1"
  }
 },
 "nbformat": 4,
 "nbformat_minor": 5
}
