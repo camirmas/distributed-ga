{
 "cells": [
  {
   "cell_type": "markdown",
   "id": "b832f379",
   "metadata": {},
   "source": [
    "# Benchmarking: Julia"
   ]
  },
  {
   "cell_type": "code",
   "execution_count": 1,
   "id": "5e49191c",
   "metadata": {},
   "outputs": [],
   "source": [
    "using Random"
   ]
  },
  {
   "cell_type": "code",
   "execution_count": 2,
   "id": "62f9eab5",
   "metadata": {},
   "outputs": [
    {
     "data": {
      "text/plain": [
       "TaskLocalRNG()"
      ]
     },
     "execution_count": 2,
     "metadata": {},
     "output_type": "execute_result"
    }
   ],
   "source": [
    "rng = Random.seed!(0)"
   ]
  },
  {
   "cell_type": "markdown",
   "id": "d4d4dfbd",
   "metadata": {},
   "source": [
    "## Objective Functions\n",
    "\n",
    "We will be using the [Levy3](http://infinity77.net/global_optimization/test_functions_nd_L.html#go_benchmark.Levy03), [Michalewicz](https://www.sfu.ca/~ssurjano/michal.html), and [Ackley](https://www.sfu.ca/~ssurjano/ackley.html) objective functions for benchmarking."
   ]
  },
  {
   "cell_type": "code",
   "execution_count": 3,
   "id": "7f2d6018",
   "metadata": {},
   "outputs": [
    {
     "data": {
      "text/plain": [
       "ackley (generic function with 1 method)"
      ]
     },
     "execution_count": 3,
     "metadata": {},
     "output_type": "execute_result"
    }
   ],
   "source": [
    "function levy3(x)\n",
    "    n = length(x)\n",
    "\n",
    "    y(x_i) = 1 + (x_i-1)/4\n",
    "\n",
    "    term1 = sin(π*y(x[1]))^2\n",
    "    term3 = y(x[n]-1)^2 * (1+sin(2π*y(x[n]))^2)\n",
    "    \n",
    "    sum = 0\n",
    "    for i=1:n-1\n",
    "        new = (y(x[i])-1)^2*(1+10sin(π*y(x[i])+1)^2)\n",
    "        sum += new\n",
    "    end\n",
    "\n",
    "    return term1 + sum + term3\n",
    "end\n",
    "\n",
    "function michalewicz(x; m=10)\n",
    "    sleep(0.01)\n",
    "    return -sum(sin(v)*sin(i*v^2/π)^(2m) for\n",
    "               (i,v) in enumerate(x))\n",
    "end\n",
    "\n",
    "function ackley(x; a=20, b=0.2, c=2π)\n",
    "    sleep(0.01)\n",
    "    d = length(x)\n",
    "    return -a*exp(-b*sqrt(sum(x.^2)/d)) -\n",
    "              exp(sum(cos.(c*xi) for xi in x)/d) + a + exp(1)\n",
    "end"
   ]
  },
  {
   "cell_type": "markdown",
   "id": "e1600520",
   "metadata": {},
   "source": [
    "## Genetic Algorithm (GA) Implementation\n",
    "\n",
    "The following section defines a GA implementation using a real-valued representation. The Selection, Crossover, and Mutation types will be reused in both the baseline and parallelized versions of the algorithm."
   ]
  },
  {
   "cell_type": "markdown",
   "id": "d5af072a",
   "metadata": {},
   "source": [
    "### Population"
   ]
  },
  {
   "cell_type": "code",
   "execution_count": 4,
   "id": "e030caac",
   "metadata": {},
   "outputs": [
    {
     "data": {
      "text/plain": [
       "rand_population_uniform (generic function with 1 method)"
      ]
     },
     "execution_count": 4,
     "metadata": {},
     "output_type": "execute_result"
    }
   ],
   "source": [
    "function rand_population_uniform(m, a, b)\n",
    "    d = length(a)\n",
    "    return [a+rand(d).*(b-a) for i in 1:m]\n",
    "end"
   ]
  },
  {
   "cell_type": "markdown",
   "id": "df4a41e1",
   "metadata": {},
   "source": [
    "### Selection"
   ]
  },
  {
   "cell_type": "code",
   "execution_count": 5,
   "id": "bc7ace65",
   "metadata": {},
   "outputs": [
    {
     "data": {
      "text/plain": [
       "select (generic function with 3 methods)"
      ]
     },
     "execution_count": 5,
     "metadata": {},
     "output_type": "execute_result"
    }
   ],
   "source": [
    "abstract type SelectionMethod end\n",
    "struct TruncationSelection <: SelectionMethod\n",
    "    k # top k to keep\n",
    "end\n",
    "function select(t::TruncationSelection, y)\n",
    "    p = sortperm(y)\n",
    "    return [p[rand(1:t.k, 2)] for i in y]\n",
    "end\n",
    "\n",
    "struct TournamentSelection <: SelectionMethod\n",
    "    k\n",
    "end\n",
    "function select(t::TournamentSelection, y)\n",
    "    getparent() = begin\n",
    "        p = randperm(length(y))\n",
    "        p[argmin(y[p[1:t.k]])]\n",
    "    end\n",
    "    return [[getparent(), getparent()] for i in y] \n",
    "end\n",
    "\n",
    "struct RouletteWheelSelection <: SelectionMethod end\n",
    "function select(::RouletteWheelSelection, y)\n",
    "    y = maximum(y) .- y\n",
    "    cat = Categorical(normalize(y, 1))\n",
    "    return [rand(cat, 2) for i in y]\n",
    "end"
   ]
  },
  {
   "cell_type": "markdown",
   "id": "cc4b0f42",
   "metadata": {},
   "source": [
    "### Crossover"
   ]
  },
  {
   "cell_type": "code",
   "execution_count": 6,
   "id": "625a1454",
   "metadata": {},
   "outputs": [
    {
     "data": {
      "text/plain": [
       "crossover (generic function with 3 methods)"
      ]
     },
     "execution_count": 6,
     "metadata": {},
     "output_type": "execute_result"
    }
   ],
   "source": [
    "abstract type CrossoverMethod end\n",
    "struct SinglePointCrossover <: CrossoverMethod end\n",
    "function crossover(::SinglePointCrossover, a, b)\n",
    "    i = rand(1:length(a))\n",
    "    return vcat(a[1:i], b[i+1:end])\n",
    "end\n",
    "\n",
    "struct TwoPointCrossover <: CrossoverMethod end\n",
    "function crossover(::TwoPointCrossover, a, b)\n",
    "    n = length(a)\n",
    "    i, j = rand(1:n, 2)\n",
    "    if i > j\n",
    "        (i,j) = (j,i)\n",
    "    end\n",
    "    return vcat(a[1:i], b[i+1:j], a[j+1:n])\n",
    "end\n",
    "\n",
    "struct UniformCrossover <: CrossoverMethod end\n",
    "function crossover(::UniformCrossover, a, b)\n",
    "    child = copy(a)\n",
    "    for i in 1 : length(a)\n",
    "        if rand() < 0.5\n",
    "            child[i] = b[i]\n",
    "        end\n",
    "    end\n",
    "    return child\n",
    "end"
   ]
  },
  {
   "cell_type": "markdown",
   "id": "ed805bca",
   "metadata": {},
   "source": [
    "### Mutation"
   ]
  },
  {
   "cell_type": "code",
   "execution_count": 7,
   "id": "87fdf58c",
   "metadata": {},
   "outputs": [
    {
     "data": {
      "text/plain": [
       "mutate (generic function with 2 methods)"
      ]
     },
     "execution_count": 7,
     "metadata": {},
     "output_type": "execute_result"
    }
   ],
   "source": [
    "abstract type MutationMethod end\n",
    "struct BitwiseMutation <: MutationMethod\n",
    "    λ\n",
    "end\n",
    "function mutate(M::BitwiseMutation, child)\n",
    "    return [rand() < M.λ ? !v : v for v in child]\n",
    "end\n",
    "\n",
    "struct GaussianMutation <: MutationMethod\n",
    "    σ\n",
    "end\n",
    "function mutate(M::GaussianMutation, child)\n",
    "    return child + randn(length(child))*M.σ\n",
    "end"
   ]
  },
  {
   "cell_type": "markdown",
   "id": "ea1e1803",
   "metadata": {},
   "source": [
    "### Algorithm"
   ]
  },
  {
   "cell_type": "markdown",
   "id": "5c524409",
   "metadata": {},
   "source": [
    "First, ensure that we have multithreading enabled. The easiest way to do this is to specify the number of threads when starting up the notebook:\n",
    "\n",
    "`JULIA_NUM_THREADS=4 jupyter-notebook`"
   ]
  },
  {
   "cell_type": "code",
   "execution_count": 8,
   "id": "f4236b8f",
   "metadata": {},
   "outputs": [
    {
     "data": {
      "text/plain": [
       "10"
      ]
     },
     "execution_count": 8,
     "metadata": {},
     "output_type": "execute_result"
    }
   ],
   "source": [
    "Threads.nthreads() # should be > 1"
   ]
  },
  {
   "cell_type": "code",
   "execution_count": 9,
   "id": "21661947",
   "metadata": {},
   "outputs": [
    {
     "data": {
      "text/plain": [
       "genetic_algorithm (generic function with 1 method)"
      ]
     },
     "execution_count": 9,
     "metadata": {},
     "output_type": "execute_result"
    }
   ],
   "source": [
    "function genetic_algorithm(f, population, k_max, S, C, M; parallel=false)\n",
    "    n = length(population)\n",
    "    for k in 1 : k_max\n",
    "        if parallel\n",
    "            # Perform function evaluations in parallel\n",
    "            f_pop = zeros(n)\n",
    "            Threads.@threads for i=1:n\n",
    "               f_pop[i] = f(population[i]) \n",
    "            end\n",
    "        else\n",
    "            f_pop = f.(population)\n",
    "        end\n",
    "        parents = select(S, f_pop)\n",
    "        children = [crossover(C, population[p[1]], population[p[2]]) for p in parents]\n",
    "        population .= mutate.(Ref(M), children)\n",
    "    end\n",
    "    population[argmin(f.(population))]\n",
    "end"
   ]
  },
  {
   "cell_type": "markdown",
   "id": "0340bcb3",
   "metadata": {},
   "source": [
    "### Benchmarking (baseline)"
   ]
  },
  {
   "cell_type": "code",
   "execution_count": 10,
   "id": "897141a1",
   "metadata": {
    "scrolled": true
   },
   "outputs": [
    {
     "data": {
      "text/plain": [
       "40-element Vector{Vector{Float64}}:\n",
       " [1.6227978835681167, 0.2741832975460601]\n",
       " [3.4485634287819398, 0.3438834634336878]\n",
       " [2.646450762923295, 0.46530941532634396]\n",
       " [0.4375424085791564, 2.8080177767349186]\n",
       " [1.1580393692877515, 0.11419991066393598]\n",
       " [2.154557655862612, 3.5879591610268338]\n",
       " [1.0339112614534827, 1.3557962068886953]\n",
       " [1.6989666560852252, 3.6189103070386164]\n",
       " [2.978718331949238, 0.6222297668781192]\n",
       " [2.3019615369020383, 1.816925890183565]\n",
       " [0.0668971086636172, 1.9831175619969552]\n",
       " [2.542710434871043, 0.34831495149735403]\n",
       " [1.7036205409667047, 2.2944474777203316]\n",
       " ⋮\n",
       " [3.4836989406410375, 3.0308454801035754]\n",
       " [0.03292787614795989, 2.426377650783829]\n",
       " [0.46407739230089184, 0.6806902469822944]\n",
       " [3.172635826731833, 0.8710915371037222]\n",
       " [3.6521526529050505, 1.6390326906675292]\n",
       " [2.4975358217191, 0.22630958404098145]\n",
       " [3.487549644688445, 1.4215005383254011]\n",
       " [2.09603285944997, 1.119627276969072]\n",
       " [0.8611716773442128, 1.5182730273241658]\n",
       " [2.308724747676947, 1.1271127292587386]\n",
       " [3.563893160099088, 0.5251653219662984]\n",
       " [1.2085999459469274, 2.5717428892464387]"
      ]
     },
     "execution_count": 10,
     "metadata": {},
     "output_type": "execute_result"
    }
   ],
   "source": [
    "f = x -> michalewicz(x)\n",
    "\n",
    "S = TruncationSelection(10)\n",
    "C = SinglePointCrossover()\n",
    "M = GaussianMutation(0.1)\n",
    "\n",
    "k_max = 10\n",
    "m = 40\n",
    "population = rand_population_uniform(m, [0.0, 0.0], [4.0, 4.0])"
   ]
  },
  {
   "cell_type": "code",
   "execution_count": 11,
   "id": "e024fa7a",
   "metadata": {},
   "outputs": [
    {
     "name": "stdout",
     "output_type": "stream",
     "text": [
      "  6.231762 seconds (2.48 M allocations: 137.127 MiB, 0.78% gc time, 13.83% compilation time)\n"
     ]
    },
    {
     "data": {
      "text/plain": [
       "2-element Vector{Float64}:\n",
       " 2.2204334208424057\n",
       " 1.5400543380262424"
      ]
     },
     "execution_count": 11,
     "metadata": {},
     "output_type": "execute_result"
    }
   ],
   "source": [
    "@time genetic_algorithm(f, population, k_max, S, C, M)"
   ]
  },
  {
   "cell_type": "code",
   "execution_count": 12,
   "id": "9c4637b3",
   "metadata": {},
   "outputs": [
    {
     "name": "stdout",
     "output_type": "stream",
     "text": [
      "  1.579789 seconds (61.82 k allocations: 3.538 MiB, 0.82% gc time, 10.47% compilation time)\n"
     ]
    },
    {
     "data": {
      "text/plain": [
       "2-element Vector{Float64}:\n",
       " 2.220092878471803\n",
       " 1.5655794177367475"
      ]
     },
     "execution_count": 12,
     "metadata": {},
     "output_type": "execute_result"
    }
   ],
   "source": [
    "@time genetic_algorithm(f, population, k_max, S, C, M; parallel=true)"
   ]
  }
 ],
 "metadata": {
  "kernelspec": {
   "display_name": "Julia 1.7.1",
   "language": "julia",
   "name": "julia-1.7"
  },
  "language_info": {
   "file_extension": ".jl",
   "mimetype": "application/julia",
   "name": "julia",
   "version": "1.7.1"
  }
 },
 "nbformat": 4,
 "nbformat_minor": 5
}
