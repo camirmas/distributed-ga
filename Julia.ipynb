{
 "cells": [
  {
   "cell_type": "markdown",
   "id": "b832f379",
   "metadata": {},
   "source": [
    "# Benchmarking: Julia"
   ]
  },
  {
   "cell_type": "code",
   "execution_count": 1,
   "id": "5e49191c",
   "metadata": {},
   "outputs": [],
   "source": [
    "using Random"
   ]
  },
  {
   "cell_type": "code",
   "execution_count": 2,
   "id": "62f9eab5",
   "metadata": {},
   "outputs": [
    {
     "data": {
      "text/plain": [
       "TaskLocalRNG()"
      ]
     },
     "execution_count": 2,
     "metadata": {},
     "output_type": "execute_result"
    }
   ],
   "source": [
    "Random.seed!(0)"
   ]
  },
  {
   "cell_type": "markdown",
   "id": "d4d4dfbd",
   "metadata": {},
   "source": [
    "## Objective Functions\n",
    "\n",
    "We will be using the [Levy3](http://infinity77.net/global_optimization/test_functions_nd_L.html#go_benchmark.Levy03), [Michalewicz](https://www.sfu.ca/~ssurjano/michal.html), and [Ackley](https://www.sfu.ca/~ssurjano/ackley.html) objective functions for benchmarking."
   ]
  },
  {
   "cell_type": "code",
   "execution_count": 69,
   "id": "7f2d6018",
   "metadata": {},
   "outputs": [
    {
     "data": {
      "text/plain": [
       "ackley (generic function with 4 methods)"
      ]
     },
     "execution_count": 69,
     "metadata": {},
     "output_type": "execute_result"
    }
   ],
   "source": [
    "function levy3(x)\n",
    "    n = length(x)\n",
    "\n",
    "    y(x_i) = 1 + (x_i-1)/4\n",
    "\n",
    "    term1 = sin(π*y(x[1]))^2\n",
    "    term3 = y(x[n]-1)^2 * (1+sin(2π*y(x[n]))^2)\n",
    "    \n",
    "    sum = 0\n",
    "    for i=1:n-1\n",
    "        new = (y(x[i])-1)^2*(1+10sin(π*y(x[i])+1)^2)\n",
    "        sum += new\n",
    "    end\n",
    "\n",
    "    return term1 + sum + term3\n",
    "end\n",
    "\n",
    "function michalewicz(x; m=10)\n",
    "    sleep(0.01)\n",
    "    return -sum(sin(v)*sin(i*v^2/π)^(2m) for\n",
    "               (i,v) in enumerate(x))\n",
    "end\n",
    "\n",
    "function ackley(x; a=20, b=0.2, c=2π)\n",
    "    d = length(x)\n",
    "    return -a*exp(-b*sqrt(sum(x.^2)/d)) -\n",
    "              exp(sum(cos.(c*xi) for xi in x)/d) + a + exp(1)\n",
    "end"
   ]
  },
  {
   "cell_type": "markdown",
   "id": "e1600520",
   "metadata": {},
   "source": [
    "## Genetic Algorithm (GA) Implementation\n",
    "\n",
    "The following section defines a GA implementation using a real-valued representation. The Selection, Crossover, and Mutation types will be reused in both the baseline and parallelized versions of the algorithm."
   ]
  },
  {
   "cell_type": "markdown",
   "id": "d5af072a",
   "metadata": {},
   "source": [
    "### Population"
   ]
  },
  {
   "cell_type": "code",
   "execution_count": 47,
   "id": "e030caac",
   "metadata": {},
   "outputs": [
    {
     "data": {
      "text/plain": [
       "rand_population_uniform (generic function with 1 method)"
      ]
     },
     "execution_count": 47,
     "metadata": {},
     "output_type": "execute_result"
    }
   ],
   "source": [
    "function rand_population_uniform(m, a, b)\n",
    "    d = length(a)\n",
    "    return [a+rand(d).*(b-a) for i in 1:m]\n",
    "end"
   ]
  },
  {
   "cell_type": "markdown",
   "id": "df4a41e1",
   "metadata": {},
   "source": [
    "### Selection"
   ]
  },
  {
   "cell_type": "code",
   "execution_count": 7,
   "id": "bc7ace65",
   "metadata": {},
   "outputs": [
    {
     "data": {
      "text/plain": [
       "select (generic function with 3 methods)"
      ]
     },
     "execution_count": 7,
     "metadata": {},
     "output_type": "execute_result"
    }
   ],
   "source": [
    "abstract type SelectionMethod end\n",
    "struct TruncationSelection <: SelectionMethod\n",
    "    k # top k to keep\n",
    "end\n",
    "function select(t::TruncationSelection, y)\n",
    "    p = sortperm(y)\n",
    "    return [p[rand(1:t.k, 2)] for i in y]\n",
    "end\n",
    "\n",
    "struct TournamentSelection <: SelectionMethod\n",
    "    k\n",
    "end\n",
    "function select(t::TournamentSelection, y)\n",
    "    getparent() = begin\n",
    "        p = randperm(length(y))\n",
    "        p[argmin(y[p[1:t.k]])]\n",
    "    end\n",
    "    return [[getparent(), getparent()] for i in y] \n",
    "end\n",
    "\n",
    "struct RouletteWheelSelection <: SelectionMethod end\n",
    "function select(::RouletteWheelSelection, y)\n",
    "    y = maximum(y) .- y\n",
    "    cat = Categorical(normalize(y, 1))\n",
    "    return [rand(cat, 2) for i in y]\n",
    "end"
   ]
  },
  {
   "cell_type": "markdown",
   "id": "cc4b0f42",
   "metadata": {},
   "source": [
    "### Crossover"
   ]
  },
  {
   "cell_type": "code",
   "execution_count": 8,
   "id": "625a1454",
   "metadata": {},
   "outputs": [
    {
     "data": {
      "text/plain": [
       "crossover (generic function with 3 methods)"
      ]
     },
     "execution_count": 8,
     "metadata": {},
     "output_type": "execute_result"
    }
   ],
   "source": [
    "abstract type CrossoverMethod end\n",
    "struct SinglePointCrossover <: CrossoverMethod end\n",
    "function crossover(::SinglePointCrossover, a, b)\n",
    "    i = rand(1:length(a))\n",
    "    return vcat(a[1:i], b[i+1:end])\n",
    "end\n",
    "\n",
    "struct TwoPointCrossover <: CrossoverMethod end\n",
    "function crossover(::TwoPointCrossover, a, b)\n",
    "    n = length(a)\n",
    "    i, j = rand(1:n, 2)\n",
    "    if i > j\n",
    "        (i,j) = (j,i)\n",
    "    end\n",
    "    return vcat(a[1:i], b[i+1:j], a[j+1:n])\n",
    "end\n",
    "\n",
    "struct UniformCrossover <: CrossoverMethod end\n",
    "function crossover(::UniformCrossover, a, b)\n",
    "    child = copy(a)\n",
    "    for i in 1 : length(a)\n",
    "        if rand() < 0.5\n",
    "            child[i] = b[i]\n",
    "        end\n",
    "    end\n",
    "    return child\n",
    "end"
   ]
  },
  {
   "cell_type": "markdown",
   "id": "ed805bca",
   "metadata": {},
   "source": [
    "### Mutation"
   ]
  },
  {
   "cell_type": "code",
   "execution_count": 9,
   "id": "87fdf58c",
   "metadata": {},
   "outputs": [
    {
     "data": {
      "text/plain": [
       "mutate (generic function with 2 methods)"
      ]
     },
     "execution_count": 9,
     "metadata": {},
     "output_type": "execute_result"
    }
   ],
   "source": [
    "abstract type MutationMethod end\n",
    "struct BitwiseMutation <: MutationMethod\n",
    "    λ\n",
    "end\n",
    "function mutate(M::BitwiseMutation, child)\n",
    "    return [rand() < M.λ ? !v : v for v in child]\n",
    "end\n",
    "\n",
    "struct GaussianMutation <: MutationMethod\n",
    "    σ\n",
    "end\n",
    "function mutate(M::GaussianMutation, child)\n",
    "    return child + randn(length(child))*M.σ\n",
    "end"
   ]
  },
  {
   "cell_type": "markdown",
   "id": "ea1e1803",
   "metadata": {},
   "source": [
    "### Algorithm"
   ]
  },
  {
   "cell_type": "markdown",
   "id": "5c524409",
   "metadata": {},
   "source": [
    "First, ensure that we have multithreading enabled. The easiest way to do this is to specify the number of threads when starting up the notebook:\n",
    "\n",
    "`JULIA_NUM_THREADS=4 jupyter-notebook`"
   ]
  },
  {
   "cell_type": "code",
   "execution_count": 16,
   "id": "f4236b8f",
   "metadata": {},
   "outputs": [
    {
     "data": {
      "text/plain": [
       "4"
      ]
     },
     "execution_count": 16,
     "metadata": {},
     "output_type": "execute_result"
    }
   ],
   "source": [
    "Threads.nthreads() # should be > 1"
   ]
  },
  {
   "cell_type": "code",
   "execution_count": 22,
   "id": "21661947",
   "metadata": {},
   "outputs": [
    {
     "data": {
      "text/plain": [
       "genetic_algorithm (generic function with 1 method)"
      ]
     },
     "execution_count": 22,
     "metadata": {},
     "output_type": "execute_result"
    }
   ],
   "source": [
    "function genetic_algorithm(f, population, k_max, S, C, M; parallel=false)\n",
    "    n = length(population)\n",
    "    for k in 1 : k_max\n",
    "        if parallel\n",
    "            # Perform function evaluations in parallel\n",
    "            f_pop = zeros(n)\n",
    "            Threads.@threads for i=1:n\n",
    "               f_pop[i] = f(population[i]) \n",
    "            end\n",
    "        else\n",
    "            f_pop = f.(population)\n",
    "        end\n",
    "        parents = select(S, f_pop)\n",
    "        children = [crossover(C, population[p[1]], population[p[2]]) for p in parents]\n",
    "        population .= mutate.(Ref(M), children)\n",
    "    end\n",
    "    population[argmin(f.(population))]\n",
    "end"
   ]
  },
  {
   "cell_type": "markdown",
   "id": "0340bcb3",
   "metadata": {},
   "source": [
    "### Benchmarking (baseline)"
   ]
  },
  {
   "cell_type": "code",
   "execution_count": 38,
   "id": "897141a1",
   "metadata": {
    "scrolled": true
   },
   "outputs": [
    {
     "data": {
      "text/plain": [
       "40-element Vector{Vector{Float64}}:\n",
       " [1.4428945738932555, 3.6191622322854937]\n",
       " [3.1387476917146744, 2.047670021892199]\n",
       " [1.5411375055631122, 2.4844357857429977]\n",
       " [2.0663343190000125, 2.037003259837116]\n",
       " [0.22818803298950474, 2.1492219907554047]\n",
       " [3.2035561709351774, 0.11266125677973671]\n",
       " [2.414011460775739, 2.6898706009080584]\n",
       " [1.558782991361193, 3.2184448330752513]\n",
       " [3.0346905048523136, 1.9251774400046924]\n",
       " [2.9258788909058953, 2.9629305679389293]\n",
       " [2.652300018360916, 2.5910124955694003]\n",
       " [2.0012920092702924, 1.0632552728993252]\n",
       " [3.4472086054738362, 0.6172718041941527]\n",
       " ⋮\n",
       " [2.0152079541242722, 2.0512697854222934]\n",
       " [0.7822308497027923, 0.7461019165182101]\n",
       " [0.659748375472982, 1.0915537535141313]\n",
       " [2.75510439864937, 3.8466640125688505]\n",
       " [0.6715960312398699, 1.7404103129759845]\n",
       " [2.8274950768098064, 2.1765956775626853]\n",
       " [3.799436870946522, 3.1439367117858743]\n",
       " [2.8735214859103486, 0.9777126422009714]\n",
       " [3.8086790748615806, 3.3697838804643223]\n",
       " [2.2644492108350867, 0.4810047151197625]\n",
       " [1.3667266368934392, 0.2910805846820863]\n",
       " [0.17905015779622424, 1.2703166813874178]"
      ]
     },
     "execution_count": 38,
     "metadata": {},
     "output_type": "execute_result"
    }
   ],
   "source": [
    "f = x -> michalewicz(x)\n",
    "\n",
    "S = TruncationSelection(10)\n",
    "C = SinglePointCrossover()\n",
    "M = GaussianMutation(0.1)\n",
    "\n",
    "k_max = 10\n",
    "m = 40\n",
    "population = rand_population_uniform(m, [0.0, 0.0], [4.0, 4.0])"
   ]
  },
  {
   "cell_type": "code",
   "execution_count": 44,
   "id": "e024fa7a",
   "metadata": {},
   "outputs": [
    {
     "name": "stdout",
     "output_type": "stream",
     "text": [
      " 44.869281 seconds (5.96 k allocations: 338.406 KiB)\n"
     ]
    },
    {
     "data": {
      "text/plain": [
       "2-element Vector{Float64}:\n",
       " 2.175962301481834\n",
       " 1.5867688530327524"
      ]
     },
     "execution_count": 44,
     "metadata": {},
     "output_type": "execute_result"
    }
   ],
   "source": [
    "@time genetic_algorithm(f, population, k_max, S, C, M)"
   ]
  },
  {
   "cell_type": "code",
   "execution_count": 45,
   "id": "9c4637b3",
   "metadata": {},
   "outputs": [
    {
     "name": "stdout",
     "output_type": "stream",
     "text": [
      " 15.299984 seconds (27.42 k allocations: 1.606 MiB, 0.77% compilation time)\n"
     ]
    },
    {
     "data": {
      "text/plain": [
       "2-element Vector{Float64}:\n",
       " 2.2136565467610883\n",
       " 1.5539304324094187"
      ]
     },
     "execution_count": 45,
     "metadata": {},
     "output_type": "execute_result"
    }
   ],
   "source": [
    "@time genetic_algorithm(f, population, k_max, S, C, M; parallel=true)"
   ]
  },
  {
   "cell_type": "markdown",
   "id": "b65f2400",
   "metadata": {},
   "source": [
    "## Simulated Annealing Implementation"
   ]
  },
  {
   "cell_type": "code",
   "execution_count": 253,
   "id": "de323341",
   "metadata": {},
   "outputs": [
    {
     "data": {
      "text/plain": [
       "simulated_annealing (generic function with 2 methods)"
      ]
     },
     "execution_count": 253,
     "metadata": {},
     "output_type": "execute_result"
    }
   ],
   "source": [
    "function simulated_annealing(f, x, t, k_max)\n",
    "    y = f(x)\n",
    "    x_best, y_best = x, y\n",
    "    for k in 1 : k_max\n",
    "        x′ = x + randn(length(x))\n",
    "        y′ = f(x′)\n",
    "        Δy = y′ - y\n",
    "        if Δy ≤ 0 || rand() < exp(-Δy/t(k))\n",
    "            x, y = x′, y′\n",
    "        end\n",
    "        if y′ < y_best\n",
    "            x_best, y_best = x′, y′\n",
    "        end\n",
    "    end\n",
    "    return x_best, y_best\n",
    "end"
   ]
  },
  {
   "cell_type": "code",
   "execution_count": 324,
   "id": "2b265a47",
   "metadata": {},
   "outputs": [
    {
     "data": {
      "text/plain": [
       "([-0.022496545439987123, 9.009672518574263e-5], 0.07705081049613982)"
      ]
     },
     "execution_count": 324,
     "metadata": {},
     "output_type": "execute_result"
    }
   ],
   "source": [
    "x = [3.0, 3.0]\n",
    "\n",
    "# fast annealing\n",
    "T0 = 25\n",
    "t(k) = T0/k\n",
    "\n",
    "k_max = 1000\n",
    "\n",
    "simulated_annealing(ackley, x, t, k_max)"
   ]
  },
  {
   "cell_type": "code",
   "execution_count": null,
   "id": "a12b6136",
   "metadata": {},
   "outputs": [],
   "source": []
  }
 ],
 "metadata": {
  "kernelspec": {
   "display_name": "Julia 1.7.1",
   "language": "julia",
   "name": "julia-1.7"
  },
  "language_info": {
   "file_extension": ".jl",
   "mimetype": "application/julia",
   "name": "julia",
   "version": "1.7.1"
  }
 },
 "nbformat": 4,
 "nbformat_minor": 5
}
