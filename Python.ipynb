{
 "cells": [
  {
   "cell_type": "code",
   "execution_count": 85,
   "id": "0e1dc678",
   "metadata": {},
   "outputs": [],
   "source": [
    "import numpy as np\n",
    "from numpy import cos, sqrt\n",
    "from numpy.random import rand, randn\n",
    "from math import pi as π, exp\n",
    "import time"
   ]
  },
  {
   "cell_type": "code",
   "execution_count": 86,
   "id": "5d3002f7",
   "metadata": {},
   "outputs": [],
   "source": [
    "def ackley(x, a=20, b=0.2, c=2*π):\n",
    "    time.sleep(0.01)\n",
    "    d = len(x)\n",
    "    \n",
    "    return -a*exp(-b*sqrt(sum(x**2)/d)) - exp(sum(cos(c*xi) for xi in x)/d) + a + exp(1)"
   ]
  },
  {
   "cell_type": "code",
   "execution_count": 60,
   "id": "2e0675a8",
   "metadata": {},
   "outputs": [],
   "source": [
    "def simulated_annealing(f, x, t, k_max):\n",
    "    y = f(x)\n",
    "    x_best, y_best = x, y\n",
    "    \n",
    "    for k in range(k_max):\n",
    "        x_new = x + randn(len(x))\n",
    "        y_new = f(x_new)\n",
    "        Δy = y_new - y\n",
    "        if Δy <= 0 or rand() < exp(-Δy/t(k)):\n",
    "            x, y = x_new, y_new\n",
    "            \n",
    "        if y_new < y_best:\n",
    "            x_best, y_best = x_new, y_new\n",
    "            \n",
    "    return x_best, y_best"
   ]
  },
  {
   "cell_type": "code",
   "execution_count": 90,
   "id": "f4c156a1",
   "metadata": {},
   "outputs": [],
   "source": [
    "x = np.array([3.0, 3.0])\n",
    "\n",
    "# fast annealing\n",
    "T0 = 25\n",
    "t = lambda k: T0/(k+1)\n",
    "\n",
    "k_max = 1000\n",
    "\n",
    "def run_simulated_annealing():\n",
    "    start = time.perf_counter()\n",
    "    res = simulated_annealing(ackley, x, t, k_max)\n",
    "    print(f\"Completed Execution in {time.perf_counter() - start} seconds\")\n",
    "    return res"
   ]
  },
  {
   "cell_type": "code",
   "execution_count": 91,
   "id": "8be0b027",
   "metadata": {},
   "outputs": [
    {
     "name": "stdout",
     "output_type": "stream",
     "text": [
      "Completed Execution in 11.006411335001758 seconds\n"
     ]
    },
    {
     "data": {
      "text/plain": [
       "(array([0.01408799, 0.01331574]), 0.06481079467513284)"
      ]
     },
     "execution_count": 91,
     "metadata": {},
     "output_type": "execute_result"
    }
   ],
   "source": [
    "run_simulated_annealing()"
   ]
  }
 ],
 "metadata": {
  "kernelspec": {
   "display_name": "ga",
   "language": "python",
   "name": "ga_env"
  },
  "language_info": {
   "codemirror_mode": {
    "name": "ipython",
    "version": 3
   },
   "file_extension": ".py",
   "mimetype": "text/x-python",
   "name": "python",
   "nbconvert_exporter": "python",
   "pygments_lexer": "ipython3",
   "version": "3.8.10"
  }
 },
 "nbformat": 4,
 "nbformat_minor": 5
}
